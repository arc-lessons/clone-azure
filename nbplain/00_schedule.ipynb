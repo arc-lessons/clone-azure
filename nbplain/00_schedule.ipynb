{
 "cells": [
  {
   "cell_type": "markdown",
   "metadata": {
    "slideshow": {
     "slide_type": "slide"
    }
   },
   "source": [
    "# Setup\n",
    "\n",
    "We will be using [notebooks.azure.com](https://notebooks.azure.com) for this lesson, this is a service which provides an environment for running Jupyter notebooks and managing your projects."
   ]
  },
  {
   "cell_type": "markdown",
   "metadata": {
    "slideshow": {
     "slide_type": "slide"
    }
   },
   "source": [
    "1.\n",
    "\n",
    "First log-in to [notebooks.azure.com](https://notebooks.azure.com) with your University email account.\n",
    "\n",
    "![Clone lab library](../images/notebooks_signin.png)"
   ]
  },
  {
   "cell_type": "markdown",
   "metadata": {
    "slideshow": {
     "slide_type": "slide"
    }
   },
   "source": [
    "2.\n",
    "\n",
    "Next clone the [library](https://notebooks.azure.com/jgrant/projects/ch10009-jupyter) which contains the notebooks for today's lab:\n",
    "\n",
    "![Clone lab library](../images/notebooks_clone.png)\n",
    "\n",
    "! If at this stage the clone button is faded out, you will see 'Sign In' in the top right corner you have not yet logged in and won't be able to clone the project Go back to step 1!"
   ]
  },
  {
   "cell_type": "markdown",
   "metadata": {
    "slideshow": {
     "slide_type": "slide"
    }
   },
   "source": [
    "3.\n",
    "\n",
    "This will open a pop up giving you the option to change the name of the project.  You should just click clone:\n",
    "\n",
    "![Clone lab library](../images/notebooks_cloning.png)\n",
    "\n",
    "This will take a few seconds to make a copy of the project to your profile on notebooks.azure.com"
   ]
  },
  {
   "cell_type": "markdown",
   "metadata": {
    "slideshow": {
     "slide_type": "slide"
    }
   },
   "source": [
    "4.\n",
    "\n",
    "Once copied you should launch Jupyter notebooks by click the 'Run on Free Co(mpute)' button:\n",
    "\n",
    "![Clone lab library](../images/notebooks_launch.png)"
   ]
  },
  {
   "cell_type": "markdown",
   "metadata": {
    "slideshow": {
     "slide_type": "slide"
    }
   },
   "source": [
    "5.\n",
    "\n",
    "Your Jupyter notebook is now running.  You can open the tutorials and exercises by clicking on filename.  If you want to create a new notebook you can do so by clicking on the 'New' button in the top right corner and 'Python 3.6':\n",
    "\n",
    "![Clone lab library](../images/notebooks_new.png)"
   ]
  },
  {
   "cell_type": "markdown",
   "metadata": {
    "slideshow": {
     "slide_type": "slide"
    }
   },
   "source": [
    "6.\n",
    "\n",
    "You may want to download your work to run locally e.g. using Jupyter notebook on your local machine as described elsewhere in your notes, or so you can submit it for marking!  To do this go back to the initial Jupyter notebook page, select the toggle button alongside the file you wish to download.  This will bring up a new menu with a download option:\n",
    "\n",
    "![Clone lab library](../images/notebooks_download.png)"
   ]
  }
 ],
 "metadata": {
  "celltoolbar": "Slideshow",
  "kernelspec": {
   "display_name": "Python 3",
   "language": "python",
   "name": "python3"
  },
  "language_info": {
   "codemirror_mode": {
    "name": "ipython",
    "version": 3
   },
   "file_extension": ".py",
   "mimetype": "text/x-python",
   "name": "python",
   "nbconvert_exporter": "python",
   "pygments_lexer": "ipython3",
   "version": "3.7.3"
  }
 },
 "nbformat": 4,
 "nbformat_minor": 2
}
