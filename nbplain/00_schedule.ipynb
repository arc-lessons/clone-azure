{
  "cells": [
    {
      "metadata": {
        "slideshow": {
          "slide_type": "slide"
        }
      },
      "cell_type": "markdown",
      "source": "# Setup\n\nWe will be using [notebooks.azure.com](https://notebooks.azure.com) for this lesson, this is a service which provides an environment for running Jupyter notebooks and managing your projects."
    },
    {
      "metadata": {
        "slideshow": {
          "slide_type": "slide"
        }
      },
      "cell_type": "markdown",
      "source": "1.\n\nFirst log-in to [notebooks.azure.com](https://notebooks.azure.com) with your University email account.\n\n![Clone lab library](../images/notebooks_signin.png)"
    },
    {
      "metadata": {
        "slideshow": {
          "slide_type": "slide"
        }
      },
      "cell_type": "markdown",
      "source": "2.\n\nNext clone the [library](https://notebooks.azure.com/jgrant/projects/ch10009-jupyter) which contains the notebooks for today's lab:\n\n![Clone lab library](../images/notebooks_clone.png)\n\n! If at this stage the clone button is faded out, you will see 'Sign In' in the top right corner you have not yet logged in and won't be able to clone the project Go back to step 1!"
    },
    {
      "metadata": {
        "slideshow": {
          "slide_type": "slide"
        }
      },
      "cell_type": "markdown",
      "source": "3.\n\nThis will open a pop up giving you the option to change the name of the project.  You should just click clone:\n\n![Clone lab library](../images/notebooks_cloning.png)\n\nThis will take a few seconds to make a copy of the project to your profile on notebooks.azure.com"
    },
    {
      "metadata": {
        "slideshow": {
          "slide_type": "slide"
        }
      },
      "cell_type": "markdown",
      "source": "4.\n\nOnce copied you should launch Jupyter notebooks by click the 'Run on Free Co(mpute)' button:\n\n![Clone lab library](../images/notebooks_launch.png)"
    },
    {
      "metadata": {
        "slideshow": {
          "slide_type": "slide"
        }
      },
      "cell_type": "markdown",
      "source": "5.\n\nYour Jupyter notebook is now running.  You can open the tutorials and exercises by clicking on filename.  If you want to create a new notebook you can do so by clicking on the 'New' button in the top right corner and 'Python 3.6':\n\n![Clone lab library](../images/notebooks_new.png)"
    },
    {
      "metadata": {
        "slideshow": {
          "slide_type": "slide"
        }
      },
      "cell_type": "markdown",
      "source": "6.\n\nYou may want to download your work to run locally e.g. using Jupyter notebook on your local machine as described elsewhere in your notes, or so you can submit it for marking!  To do this go back to the initial Jupyter notebook page, select the toggle button alongside the file you wish to download.  This will bring up a new menu with a download option:\n\n![Clone lab library](../images/notebooks_download.png)"
    },
    {
      "metadata": {},
      "cell_type": "markdown",
      "source": "## Missing cell\n\nUnfortunately there is a cell missing in the `exercise.ipynb` notebook, which describes the second part of the exercise:"
    },
    {
      "metadata": {
        "trusted": true
      },
      "cell_type": "code",
      "source": "plt.plot( ◽◽◽, ◽◽◽, 'o', label='high T' ) # High temperature data points\nplt.plot( ◽◽◽, ◽◽◽, 's', label='low T' ) # Low temperature data points\nplt.xlabel( ◽◽◽ )\nplt.ylabel( ◽◽◽ )\nplt.legend()\nplt.show()",
      "execution_count": null,
      "outputs": []
    },
    {
      "metadata": {},
      "cell_type": "markdown",
      "source": "## 2. Calculating ΔH<sub>sub</sub> and ΔH<sub>vap</sub>\nBy performing separate [linear regressions](Tutorial%205.ipynb#Linear-Regression) on the low temperature data and high temperature data, calculate\n\n  * the latent heat of sublimation, in J.\n  * the latent heat of vapourisation, in J.\n  \nMake sure the check which slices of `inverse_temperature` and `log_pressure` correspond to high and low temperature.\n\nThe latent heat of sublimation is the enthalpy change to convert one mole of a substance from solid to gas at constant pressure.  \nThe latent heat of vapourisation is the enthalpy change to convert one mole of a substance from liquid to gas at constant pressure."
    },
    {
      "metadata": {
        "trusted": true
      },
      "cell_type": "code",
      "source": "from scipy.stats import linregress\n\nslope_high_T, intercept_high_T, rvalue, pvalue, stderr = linregress( ◽◽◽, ◽◽◽ )\nslope_low_T,  intercept_low_T,  rvalue, pvalue, stderr = linregress( ◽◽◽, ◽◽◽ )",
      "execution_count": null,
      "outputs": []
    },
    {
      "metadata": {},
      "cell_type": "markdown",
      "source": "You can fix this by inserting a cell between the two code cells, change its type to markdown, and paste in the code below:\n\n```\n## 2. Calculating ΔH<sub>sub</sub> and ΔH<sub>vap</sub>\nBy performing separate [linear regressions](Tutorial%205.ipynb#Linear-Regression) on the low temperature data and high temperature data, calculate\n\n  * the latent heat of sublimation, in J.\n  * the latent heat of vapourisation, in J.\n  \nMake sure the check which slices of `inverse_temperature` and `log_pressure` correspond to high and low temperature.\n\nThe latent heat of sublimation is the enthalpy change to convert one mole of a substance from solid to gas at constant pressure.  \nThe latent heat of vapourisation is the enthalpy change to convert one mole of a substance from liquid to gas at constant pressure.\n```"
    }
  ],
  "metadata": {
    "celltoolbar": "Slideshow",
    "kernelspec": {
      "name": "python3",
      "display_name": "Python 3",
      "language": "python"
    },
    "language_info": {
      "mimetype": "text/x-python",
      "nbconvert_exporter": "python",
      "name": "python",
      "file_extension": ".py",
      "version": "3.5.4",
      "pygments_lexer": "ipython3",
      "codemirror_mode": {
        "version": 3,
        "name": "ipython"
      }
    }
  },
  "nbformat": 4,
  "nbformat_minor": 2
}